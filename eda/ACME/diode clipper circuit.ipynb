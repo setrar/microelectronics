{
 "cells": [
  {
   "cell_type": "code",
   "execution_count": 1,
   "id": "ba0cf425-6ed6-4a8d-8c4e-9ab992921b7e",
   "metadata": {},
   "outputs": [],
   "source": [
    "using ACME"
   ]
  },
  {
   "cell_type": "code",
   "execution_count": 3,
   "id": "a7489735-375b-41f7-85a7-da05d1f2a8db",
   "metadata": {},
   "outputs": [],
   "source": [
    "circ = @circuit begin\n",
    "    j_in = voltagesource()\n",
    "    r1 = resistor(1e3)\n",
    "    c1 = capacitor(47e-9)\n",
    "    d1 = diode(is=1e-15)\n",
    "    d2 = diode(is=1.8e-15)\n",
    "    j_out = voltageprobe()\n",
    "    j_in[+] ⟷ r1[1]\n",
    "    j_in[-] ⟷ gnd\n",
    "    r1[2] ⟷ c1[1] ⟷ d1[+] ⟷ d2[-] ⟷ j_out[+]\n",
    "    gnd ⟷ c1[2] ⟷ d1[-] ⟷ d2[+] ⟷ j_out[-]\n",
    "end;"
   ]
  },
  {
   "cell_type": "code",
   "execution_count": 5,
   "id": "c8a245c7-7862-4919-badc-da1ee56016bf",
   "metadata": {},
   "outputs": [],
   "source": [
    "model = DiscreteModel(circ, 1/44100);"
   ]
  },
  {
   "cell_type": "code",
   "execution_count": 6,
   "id": "d5a0434e-2031-4d03-bddb-c26c705d365f",
   "metadata": {},
   "outputs": [
    {
     "data": {
      "text/plain": [
       "1×44100 Matrix{Float64}:\n",
       " 0.0  0.0275964  0.0990996  0.195777  …  -0.537508  -0.462978  -0.36521"
      ]
     },
     "execution_count": 6,
     "metadata": {},
     "output_type": "execute_result"
    }
   ],
   "source": [
    "y = run!(model, [sin(2π*1000/44100*n) for c in 1:1, n in 0:44099])"
   ]
  },
  {
   "cell_type": "markdown",
   "id": "65206619-39e0-4ea0-b34d-385ee75aa603",
   "metadata": {},
   "source": [
    "# References\n",
    "\n",
    "- [ACME.jl - Analog Circuit Modeling and Emulation for Julia](https://hsu-ant.github.io/ACME.jl/)\n",
    "- [Symmetric Distortion Guitar Effect with Diode Clipper](https://www.youtube.com/watch?v=6K7KxXPdsFs)"
   ]
  },
  {
   "cell_type": "code",
   "execution_count": null,
   "id": "532d894b-ad48-449e-964e-d6546c4d3a9f",
   "metadata": {},
   "outputs": [],
   "source": []
  }
 ],
 "metadata": {
  "kernelspec": {
   "display_name": "Julia 1.11.1",
   "language": "julia",
   "name": "julia-1.11"
  },
  "language_info": {
   "file_extension": ".jl",
   "mimetype": "application/julia",
   "name": "julia",
   "version": "1.11.1"
  }
 },
 "nbformat": 4,
 "nbformat_minor": 5
}
