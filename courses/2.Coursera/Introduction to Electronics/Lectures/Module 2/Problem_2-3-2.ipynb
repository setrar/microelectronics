{
 "cells": [
  {
   "cell_type": "markdown",
   "id": "f1c0a1c9-a678-4621-a486-e1d93775a1c1",
   "metadata": {},
   "source": [
    "Question 1\n",
    "\n",
    "For this question, $R_1 = 5k\\Omega, R_f = 10k\\Omega, V_1 = 12\\text{V}$ where $V_1, V_2$ and $V_o$ are node voltages. \n",
    "\n",
    "what is $V_o$? Give your answer in Volts and omit the units from your answer.\n",
    "\n",
    "![image](images/Fig_problem-2-3-2.png)\n"
   ]
  },
  {
   "cell_type": "markdown",
   "id": "2f7f0805-7a7a-4b3a-9fc3-885a30361a9b",
   "metadata": {},
   "source": [
    "---\n"
   ]
  },
  {
   "cell_type": "markdown",
   "id": "b16291c2-acf8-4c5e-8b5d-5ad284a92c3e",
   "metadata": {},
   "source": [
    "Let's analyze the circuit as a **differential amplifier**. The output voltage $V_o$ of a differential amplifier is given by:\n",
    "\n",
    "$V_o = \\frac{R_f}{R_1} (V_2 - V_1)$\n",
    "\n",
    "### Given:\n",
    "- $R_1 = 5k\\Omega$\n",
    "- $R_f = 10k\\Omega$\n",
    "- $V_1 = 10V$\n",
    "- $V_2 = 12V$\n",
    "\n",
    "### Step 1: Compute the gain\n",
    "The gain $A$ of the differential amplifier is:\n",
    "$A = \\frac{R_f}{R_1} = \\frac{10k\\Omega}{5k\\Omega} = 2$\n",
    "\n",
    "### Step 2: Compute the output voltage\n",
    "The output voltage $V_o$ is:\n",
    "$V_o = A (V_2 - V_1) = 2 (12V - 10V) = 2 \\times 2V = 4V$\n",
    "\n",
    "Thus, the output voltage $V_o$ is:\n",
    "\n",
    "**4**"
   ]
  },
  {
   "cell_type": "markdown",
   "id": "e4fc2349-80ba-4088-9ed2-563f6c4c7580",
   "metadata": {},
   "source": [
    "✅ Correct\n",
    "\n",
    "This is a differential amplifier. \n",
    "$V_o =  (R_f/R_1)*(V_2-V_1)$"
   ]
  },
  {
   "cell_type": "code",
   "execution_count": null,
   "id": "1b0b08db-64d4-459a-a256-a8511a1b07a5",
   "metadata": {},
   "outputs": [],
   "source": []
  }
 ],
 "metadata": {
  "kernelspec": {
   "display_name": "Julia 1.11.3",
   "language": "julia",
   "name": "julia-1.11"
  },
  "language_info": {
   "file_extension": ".jl",
   "mimetype": "application/julia",
   "name": "julia",
   "version": "1.11.3"
  }
 },
 "nbformat": 4,
 "nbformat_minor": 5
}
