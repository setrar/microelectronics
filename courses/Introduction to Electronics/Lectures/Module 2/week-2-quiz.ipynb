{
  "cells": [
    {
      "cell_type": "markdown",
      "id": "456400d1-2dca-4e7a-8093-0688e9dd3c1d",
      "metadata": {},
      "source": [
        "![image](images/Fig_week-2-quiz.png)"
      ]
    },
    {
      "cell_type": "markdown",
      "id": "5eac1cf3-be09-49d6-98df-3767591f7955",
      "metadata": {},
      "source": [
        "\n",
        "For the ideal operational amplifier circuit above, which of the following are true?\n",
        "- $i_{n} = 0$\n",
        "- $v_o \\leq V_{CC} = 0$\n",
        "- $i_{p} = i_{n}$\n",
        "- $v_{p}/i_{p} = 0$"
      ]
    },
    {
      "cell_type": "markdown",
      "id": "ce9be18b-7186-487d-b952-900d0b2aef57",
      "metadata": {},
      "source": [
        "To analyze the given ideal operational amplifier (op-amp) circuit and determine which statements are true, let's consider the properties of an ideal op-amp:\n",
        "\n",
        "### Properties of an Ideal Op-Amp:\n",
        "1. **Infinite Input Impedance**: The input currents at the inverting ($i_n$) and non-inverting ($i_p$) terminals are zero.\n",
        "2. **Zero Output Impedance**: The output voltage is not affected by the load connected to the output.\n",
        "3. **Infinite Gain**: The open-loop gain is infinite, which means the voltage difference between the inverting and non-inverting inputs is zero when the op-amp is in a closed-loop configuration.\n",
        "4. **Voltage Supply Constraints**: The output voltage $v_o$ is constrained by the power supply voltages $V_{CC}$ and $-V_{CC}$.\n",
        "\n",
        "### Analysis of the Statements:\n",
        "1. **$i_{n} = 0$**:\n",
        "   - **True**: Due to the infinite input impedance of an ideal op-amp, no current flows into the inverting input terminal.\n",
        "\n",
        "2. **$v_o \\leq V_{CC} = 0$**:\n",
        "   - **False**: The output voltage $v_o$ is constrained by the power supply voltages. Typically, $v_o$ satisfies $-V_{CC} \\leq v_o \\leq V_{CC}$. The statement $v_o \\leq V_{CC} = 0$ implies $V_{CC} = 0$, which is not generally true unless the power supply is zero.\n",
        "\n",
        "3. **$i_{p} = i_{n}$**:\n",
        "   - **True**: Since both input currents are zero ($i_{p} = 0$ and $i_{n} = 0$), they are equal.\n",
        "\n",
        "4. **$v_{p}/i_{p} = 0$**:\n",
        "   - **True**: Since $i_{p} = 0$ (due to infinite input impedance), the ratio $v_{p}/i_{p}$ is undefined, but in practical terms, it can be considered as zero because the current is zero.\n",
        "\n",
        "### Conclusion:\n",
        "Based on the properties of an ideal op-amp and the analysis above, the following statements are true:\n",
        "- $i_{n} = 0$\n",
        "- $i_{p} = i_{n}$\n",
        "- $v_{p}/i_{p} = 0$\n",
        "\n",
        "The statement $v_o \\leq V_{CC} = 0$ is false unless $V_{CC} = 0$, which is not a typical scenario.\n",
        "\n",
        "### Final Answer:\n",
        "The true statements are:\n",
        "- $i_{n} = 0$\n",
        "- $i_{p} = i_{n}$\n",
        "- $v_{p}/i_{p} = 0$"
      ]
    },
    {
      "cell_type": "code",
      "execution_count": null,
      "id": "f4b24772-ea9c-432f-b52d-f7ea0c8d60a1",
      "metadata": {},
      "outputs": [],
      "source": []
    }
  ],
  "metadata": {
    "kernelspec": {
      "display_name": "Julia 1.11.3",
      "language": "julia",
      "name": "julia-1.11"
    },
    "language_info": {
      "file_extension": ".jl",
      "mimetype": "application/julia",
      "name": "julia",
      "version": "1.11.3"
    }
  },
  "nbformat": 4,
  "nbformat_minor": 5
}