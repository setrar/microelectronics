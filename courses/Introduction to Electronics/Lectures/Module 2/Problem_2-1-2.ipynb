{
 "cells": [
  {
   "cell_type": "markdown",
   "id": "7d7b04ae-11f6-4910-844e-50bed2e61439",
   "metadata": {},
   "source": [
    "1) The following two questions refer to the circuit below.\n",
    "\n",
    "Consider a non-ideal op amp where the output can saturate. \n",
    "\n",
    "The open loop gain $A = 2 \\times 10^4$, where $v_o = - A v_s$​.\n",
    "\n",
    "The positive supply voltage for the op-amp is $+V_S =15\\mathrm{v}$. The negative supply voltage for the op-amp is  $−V_S = −10\\mathrm{v}$.\n",
    "\n",
    "* What is the most positive value $v_s$ can take before the amplifier saturates?  Express your answer in mV and omit units from your answer. \n",
    "\n",
    "![image](images/Fig_Problem_2-1-2.png)"
   ]
  },
  {
   "cell_type": "markdown",
   "id": "82750c08-278f-4edc-abca-31c73c08a08e",
   "metadata": {},
   "source": [
    "---\n",
    "### **Objective:**\n",
    "Find the most positive value of $v_s$ before the amplifier saturates.\n",
    "\n",
    "### **Solution:**\n",
    "\n",
    "1. **Saturation Limits:**\n",
    "   - The output $v_o$ cannot exceed the supply voltages. Therefore:\n",
    "$-10 \\, \\text{V} \\leq v_o \\leq +15 \\, \\text{V}$\n",
    "\n",
    "2. **Output Voltage Relationship:**\n",
    "   - For an inverting configuration, the output voltage is:\n",
    "$v_o = -A v_s$\n",
    "     Substituting $A = 2 \\times 10^4$:\n",
    "$v_o = - (2 \\times 10^4) v_s$\n",
    "\n",
    "3. **Most Positive $v_s$ Before Saturation:**\n",
    "   - The amplifier saturates when $v_o$ reaches the **negative supply voltage** ($-10 \\, \\text{V}$) because a **positive input** ($v_s$) produces a **negative output** ($v_o$).\n",
    "   - Set $v_o = -10 \\, \\text{V}$:\n",
    "$-10 = - (2 \\times 10^4) v_s$\n",
    "   - Solve for $v_s$:\n",
    "$v_s = \\frac{10}{2 \\times 10^4} = 0.0005 \\, \\text{V} = 0.5 \\, \\text{mV}$\n",
    "\n",
    "### **Final Answer:**\n",
    "The most positive value $v_s$ can take before the amplifier saturates is **0.5**.\n",
    "\n",
    "### **Key Takeaway:**\n",
    "- For an **inverting configuration**, the output saturates at the **negative supply voltage** for a **positive input**.\n",
    "- The correct answer is **0.5**."
   ]
  },
  {
   "cell_type": "markdown",
   "id": "408cfa7e-55fd-49d8-b984-67e3152a14d8",
   "metadata": {},
   "source": [
    "* What is the most positive value $v_s$ can take before the amplifier saturates?  Express your answer in mV and omit units from your answer. "
   ]
  },
  {
   "cell_type": "markdown",
   "id": "a0432fd7-ad1d-48c2-b9eb-344f0eff73b8",
   "metadata": {},
   "source": [
    "---\n",
    "\n",
    "### **Objective:**\n",
    "Find the most negative value of $v_s$ before the amplifier saturates.\n",
    "\n",
    "### **Solution:**\n",
    "\n",
    "1. **Saturation Limits:**\n",
    "   - The output $v_o$ cannot exceed the supply voltages. Therefore:\n",
    "$-10 \\, \\text{V} \\leq v_o \\leq +15 \\, \\text{V}$\n",
    "\n",
    "2. **Output Voltage Relationship:**\n",
    "   - For an inverting configuration, the output voltage is:\n",
    "$v_o = -A v_s$\n",
    "     Substituting $A = 2 \\times 10^4$:\n",
    "$v_o = - (2 \\times 10^4) v_s$\n",
    "\n",
    "3. **Most Negative $v_s$ Before Saturation:**\n",
    "   - The amplifier saturates when $v_o$ reaches the **positive supply voltage** ($+15 \\, \\text{V}$) because a **negative input** ($v_s$) produces a **positive output** ($v_o$).\n",
    "   - Set $v_o = +15 \\, \\text{V}$:\n",
    "$15 = - (2 \\times 10^4) v_s$\n",
    "   - Solve for $v_s$:\n",
    "$v_s = -\\frac{15}{2 \\times 10^4} = -0.00075 \\, \\text{V} = -0.75 \\, \\text{mV}$\n",
    "\n",
    "   - Since we are asked for the **most negative value** of $v_s$, we take the **value as is**:\n",
    "$v_s = -0.75 \\, \\text{mV}$\n",
    "\n",
    "   - However, the question asks for the value in mV **without units**, so the answer is **-0.75**.\n",
    "\n",
    "---\n",
    "\n",
    "### **Final Answer:**\n",
    "The most negative value $v_s$ can take before the amplifier saturates is **-0.75**.\n",
    "\n",
    "---\n",
    "\n",
    "### **Key Takeaway:**\n",
    "- For an **inverting configuration**, a **negative input** ($v_s$) produces a **positive output** ($v_o$), and the amplifier saturates at the **positive supply voltage** ($+15 \\, \\text{V}$).\n",
    "- The most negative value of $v_s$ is **-0.75 mV**."
   ]
  },
  {
   "cell_type": "code",
   "execution_count": null,
   "id": "ad3016ca-0fcb-43f3-aec8-96b2d38437ff",
   "metadata": {},
   "outputs": [],
   "source": []
  }
 ],
 "metadata": {
  "kernelspec": {
   "display_name": "Julia 1.11.3",
   "language": "julia",
   "name": "julia-1.11"
  },
  "language_info": {
   "file_extension": ".jl",
   "mimetype": "application/julia",
   "name": "julia",
   "version": "1.11.3"
  }
 },
 "nbformat": 4,
 "nbformat_minor": 5
}
