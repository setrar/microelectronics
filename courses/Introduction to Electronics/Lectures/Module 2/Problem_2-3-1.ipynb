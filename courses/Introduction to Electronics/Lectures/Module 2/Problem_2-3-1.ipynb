{
 "cells": [
  {
   "cell_type": "markdown",
   "id": "f1c0a1c9-a678-4621-a486-e1d93775a1c1",
   "metadata": {},
   "source": [
    "Question 1\n",
    "\n",
    "For the inverting operational amplifier circuit above, if $R_{in} = 2k\\Omega$ and and the closed-loop gain is to be $G = -40$ , what is the appropriate value that should be chosen for resistor $R_f$ ?\n",
    "![image](images/Fig_problem-2-3-1.png)\n"
   ]
  },
  {
   "cell_type": "markdown",
   "id": "2f7f0805-7a7a-4b3a-9fc3-885a30361a9b",
   "metadata": {},
   "source": [
    "---\n",
    "\n",
    "To determine the appropriate value for the feedback resistor $R_f$ in the inverting operational amplifier (op-amp) circuit, we can use the formula for the closed-loop gain of an inverting amplifier. The closed-loop gain $G$ is given by:\n",
    "\n",
    "$G = -\\frac{R_f}{R_{in}}$\n",
    "\n",
    "### Given:\n",
    "- $R_{in} = 2 \\, \\text{k}\\Omega$\n",
    "- Closed-loop gain $G = -40$\n",
    "\n",
    "### Analysis:\n",
    "We need to find $R_f$ such that the gain $G = -40$. Rearranging the gain formula to solve for $R_f$:\n",
    "\n",
    "$R_f = -G \\times R_{in}$\n",
    "\n",
    "Substituting the given values:\n",
    "\n",
    "$R_f = -(-40) \\times 2 \\, \\text{k}\\Omega = 40 \\times 2 \\, \\text{k}\\Omega = 80 \\, \\text{k}\\Omega$\n",
    "\n",
    "### Conclusion:\n",
    "The appropriate value for the feedback resistor $R_f$ to achieve a closed-loop gain of $G = -40$ is:\n",
    "\n",
    "$R_f = 80 \\, \\text{k}\\Omega$\n",
    "\n",
    "### Final Answer:\n",
    "$R_f = 80 \\, \\text{k}\\Omega$\n"
   ]
  },
  {
   "cell_type": "code",
   "execution_count": null,
   "id": "f542a7a0-6b05-490e-9546-75a0612e01b1",
   "metadata": {},
   "outputs": [],
   "source": []
  }
 ],
 "metadata": {
  "kernelspec": {
   "display_name": "Julia 1.11.3",
   "language": "julia",
   "name": "julia-1.11"
  },
  "language_info": {
   "file_extension": ".jl",
   "mimetype": "application/julia",
   "name": "julia",
   "version": "1.11.3"
  }
 },
 "nbformat": 4,
 "nbformat_minor": 5
}
