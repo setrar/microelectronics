{
 "cells": [
  {
   "cell_type": "markdown",
   "id": "f1c0a1c9-a678-4621-a486-e1d93775a1c1",
   "metadata": {},
   "source": [
    "\n",
    "![image](images/Fig_problem_2-4-2.png)\n",
    "\n",
    "Question 1\n",
    "\n",
    "For the circuit above, $R = 5k\\Omega$ and $C = 2 \\mu F$. If $v_i = \\sin(1000t) \\text{V}$, what is the value of $v_o$ at time $t = 4\\pi / 3$ ms"
   ]
  },
  {
   "cell_type": "markdown",
   "id": "2f7f0805-7a7a-4b3a-9fc3-885a30361a9b",
   "metadata": {},
   "source": [
    "---\n",
    "\n",
    "The circuit is an op-amp differentiator. The output voltage is given by:  \n",
    "$v_o = -RC \\frac{dv_i}{dt}$\n",
    "\n",
    "Given $v_i = \\sin(1000t)$, the derivative is:  \n",
    "$\\frac{dv_i}{dt} = 1000 \\cos(1000t)$\n",
    "\n",
    "Substitute $R = 5k\\Omega$, $C = 2\\mu F$:  \n",
    "$v_o = -(5 \\times 10^3)(2 \\times 10^{-6}) \\cdot 1000 \\cos(1000t) = -10 \\cos(1000t)$\n",
    "\n",
    "At $t = \\frac{4\\pi}{3} \\, \\text{ms} = \\frac{4\\pi}{3} \\times 10^{-3} \\, \\text{s}$:  \n",
    "$1000t = \\frac{4\\pi}{3} \\, \\text{radians} \\quad \\Rightarrow \\cos\\left(\\frac{4\\pi}{3}\\right) = -\\frac{1}{2}$\n",
    "\n",
    "Thus:  \n",
    "$v_o = -10 \\cdot \\left(-\\frac{1}{2}\\right) = 5 \\, \\text{V}$\n",
    "\n",
    "The output does not saturate as $5 \\, \\text{V}$ is within $\\pm 15 \\, \\text{V}$.  \n",
    "\n",
    "**Answer:**  \n",
    "$\\boxed{5}$"
   ]
  },
  {
   "cell_type": "markdown",
   "id": "e4fc2349-80ba-4088-9ed2-563f6c4c7580",
   "metadata": {},
   "source": [
    "✅ Correct\n",
    "\n",
    "The output voltage is $-RC* d_{v_i}/dt$. \n"
   ]
  },
  {
   "cell_type": "code",
   "execution_count": null,
   "id": "4cebcd3c-bcaf-4961-a8da-494cd689762d",
   "metadata": {},
   "outputs": [],
   "source": []
  }
 ],
 "metadata": {
  "kernelspec": {
   "display_name": "Julia 1.11.3",
   "language": "julia",
   "name": "julia-1.11"
  },
  "language_info": {
   "file_extension": ".jl",
   "mimetype": "application/julia",
   "name": "julia",
   "version": "1.11.3"
  }
 },
 "nbformat": 4,
 "nbformat_minor": 5
}
