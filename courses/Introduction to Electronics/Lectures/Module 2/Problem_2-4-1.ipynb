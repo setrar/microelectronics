{
 "cells": [
  {
   "cell_type": "markdown",
   "id": "f1c0a1c9-a678-4621-a486-e1d93775a1c1",
   "metadata": {},
   "source": [
    "\n",
    "![image](images/Fig_problem_2-4-1.png)\n",
    "\n",
    "Question 1\n",
    "\n",
    "For the circuit above, $R = 4M\\Omega$ and $C = 0.75 \\mu F$, $v_i(t) = − t^2 \\text{V}$ for $0s \\leq t \\leq 5s$\n",
    "\n",
    "What is the value of $v_o$ at time $t = 5s$ if $v_o (0) = 0$?  You can assume the operational amplifier behaves as an ideal op amp with power supplies of +15V and −15V.  Give your answer in volts, and omit the units from your answer."
   ]
  },
  {
   "cell_type": "markdown",
   "id": "2f7f0805-7a7a-4b3a-9fc3-885a30361a9b",
   "metadata": {},
   "source": [
    "---\n",
    "\n",
    "This circuit is an **inverting integrator** using an operational amplifier. The output voltage is given by:\n",
    "\n",
    "$v_o (t) = - \\frac{1}{RC} \\int v_i (t) dt$\n",
    "\n",
    "### Given Data:\n",
    "- $R = 4M\\Omega = 4 \\times 10^6 \\Omega$\n",
    "- $C = 0.75 \\mu F = 0.75 \\times 10^{-6} F$\n",
    "- $v_i (t) = -t^2$ for $0 \\leq t \\leq 5s$\n",
    "- $v_o (0) = 0$\n",
    "\n",
    "#### Step 1: Compute the Integral of $v_i (t)$\n",
    "\n",
    "$\\int v_i (t) dt = \\int -t^2 dt = -\\frac{t^3}{3}$\n",
    "\n",
    "Applying limits from $0$ to $5$:\n",
    "\n",
    "$\\int_{0}^{5} -t^2 dt = -\\frac{5^3}{3} + \\frac{0^3}{3} = -\\frac{125}{3}$\n",
    "\n",
    "#### Step 2: Compute $v_o (t)$\n",
    "\n",
    "$v_o (t) = - \\frac{1}{RC} \\int v_i (t) dt$\n",
    "\n",
    "Substituting values:\n",
    "\n",
    "$v_o (5) = - \\frac{1}{(4 \\times 10^6)(0.75 \\times 10^{-6})} \\times \\left( -\\frac{125}{3} \\right)$\n",
    "\n",
    "$v_o (5) = \\frac{125}{3} \\times \\frac{1}{(4 \\times 0.75)}$\n",
    "\n",
    "$= \\frac{125}{3} \\times \\frac{1}{3}$\n",
    "\n",
    "$= \\frac{125}{9} \\approx 13.89V$\n",
    "\n",
    "Since the output is within the power supply limits ($\\pm 15V$), there is no saturation.\n",
    "\n",
    "**Final Answer:**  \n",
    "$\\mathbf{13.89}$\n"
   ]
  },
  {
   "cell_type": "markdown",
   "id": "e4fc2349-80ba-4088-9ed2-563f6c4c7580",
   "metadata": {},
   "source": [
    "✅ Correct\n",
    "\n",
    "This is an inverting integrator.\n"
   ]
  },
  {
   "cell_type": "code",
   "execution_count": null,
   "id": "4cebcd3c-bcaf-4961-a8da-494cd689762d",
   "metadata": {},
   "outputs": [],
   "source": []
  }
 ],
 "metadata": {
  "kernelspec": {
   "display_name": "Julia 1.11.3",
   "language": "julia",
   "name": "julia-1.11"
  },
  "language_info": {
   "file_extension": ".jl",
   "mimetype": "application/julia",
   "name": "julia",
   "version": "1.11.3"
  }
 },
 "nbformat": 4,
 "nbformat_minor": 5
}
