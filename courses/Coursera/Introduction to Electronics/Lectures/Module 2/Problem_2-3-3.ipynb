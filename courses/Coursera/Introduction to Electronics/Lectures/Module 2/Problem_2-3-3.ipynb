{
 "cells": [
  {
   "cell_type": "markdown",
   "id": "f1c0a1c9-a678-4621-a486-e1d93775a1c1",
   "metadata": {},
   "source": [
    "\n",
    "![image](images/Fig_problem-2-3-3.png)\n",
    "\n",
    "Question 1\n",
    "\n",
    "In the figure above, $R_a = 1k\\Omega, R_b = 2k\\Omega, R_c = 3k\\Omega, R_f = 12k\\Omega$. The sources are $v_a = -4\\text{V}, v_b = +2\\text{V}$ and $v_c = 1\\text{V}$. The power supplies for the op-amp are +15V and −15V. What is the value of $V_o$? \n",
    "\n",
    "Notice that this op amp circuit might saturate, and you need to consider that possibility in your answer. Give your answer in Volts and omit the units from your answer.\n"
   ]
  },
  {
   "cell_type": "markdown",
   "id": "2f7f0805-7a7a-4b3a-9fc3-885a30361a9b",
   "metadata": {},
   "source": [
    "---\n",
    "\n",
    "To determine the output voltage $V_o$ of the operational amplifier (op-amp) circuit, we need to analyze the circuit as a **summing amplifier**. The output voltage of a summing amplifier is given by:\n",
    "\n",
    "$V_o = -R_f \\left( \\frac{V_a}{R_a} + \\frac{V_b}{R_b} + \\frac{V_c}{R_c} \\right)$\n",
    "\n",
    "### Given:\n",
    "- $R_a = 1k\\Omega$\n",
    "- $R_b = 2k\\Omega$\n",
    "- $R_c = 3k\\Omega$\n",
    "- $R_f = 12k\\Omega$\n",
    "- $V_a = -4V$\n",
    "- $V_b = +2V$\n",
    "- $V_c = 1V$\n",
    "- Power supplies: $+15V$ and $-15V$\n",
    "\n",
    "### Step 1: Compute the contributions of each input\n",
    "$V_o = -R_f \\left( \\frac{V_a}{R_a} + \\frac{V_b}{R_b} + \\frac{V_c}{R_c} \\right)$\n",
    "\n",
    "Substitute the given values:\n",
    "$V_o = -12k\\Omega \\left( \\frac{-4V}{1k\\Omega} + \\frac{2V}{2k\\Omega} + \\frac{1V}{3k\\Omega} \\right)$\n",
    "\n",
    "Simplify the fractions:\n",
    "$V_o = -12k\\Omega \\left( -4 + 1 + \\frac{1}{3} \\right)$\n",
    "\n",
    "Combine the terms inside the parentheses:\n",
    "$V_o = -12k\\Omega \\left( -3 + \\frac{1}{3} \\right) = -12k\\Omega \\left( -\\frac{9}{3} + \\frac{1}{3} \\right) = -12k\\Omega \\left( -\\frac{8}{3} \\right)$\n",
    "\n",
    "Multiply:\n",
    "$V_o = -12k\\Omega \\times -\\frac{8}{3} = 12k\\Omega \\times \\frac{8}{3} = 32V$\n",
    "\n",
    "### Step 2: Check for saturation\n",
    "The power supplies for the op-amp are $+15V$ and $-15V$. Since $V_o = 32V$ exceeds the positive supply voltage, the op-amp will saturate at $+15V$.\n",
    "\n",
    "Thus, the output voltage $V_o$ is:\n",
    "\n",
    "**15**"
   ]
  },
  {
   "cell_type": "markdown",
   "id": "e4fc2349-80ba-4088-9ed2-563f6c4c7580",
   "metadata": {},
   "source": [
    "✅ Correct\n",
    "\n",
    "This is an inverting summer circuit.\n",
    "\n",
    "The calculated output voltage is greater than 15 so saturation occurs and  $v_o$ is equal to the power supply voltage of 15 volts."
   ]
  },
  {
   "cell_type": "markdown",
   "id": "b8558285-c31c-4bac-a51e-23cbaff0f948",
   "metadata": {},
   "source": [
    "* What must be $R_a$ be changed to so that $v_o$ is 13 V? Give your answer in kilo-ohms with no units."
   ]
  },
  {
   "cell_type": "markdown",
   "id": "ded3082b-cc5d-4434-8552-9c85ee81c247",
   "metadata": {},
   "source": [
    "To determine the new value of $R_a$ such that the output voltage $V_o$ is **13V**, we start with the summing amplifier formula:\n",
    "\n",
    "$V_o = -R_f \\left( \\frac{V_a}{R_a} + \\frac{V_b}{R_b} + \\frac{V_c}{R_c} \\right)$\n",
    "\n",
    "### Given:\n",
    "- $V_o = 13V$\n",
    "- $R_f = 12k\\Omega$\n",
    "- $V_a = -4V$\n",
    "- $V_b = +2V$\n",
    "- $V_c = 1V$\n",
    "- $R_b = 2k\\Omega$\n",
    "- $R_c = 3k\\Omega$\n",
    "\n",
    "### Step 1: Substitute the known values into the formula\n",
    "$13 = -12 \\left( \\frac{-4}{R_a} + \\frac{2}{2} + \\frac{1}{3} \\right)$\n",
    "\n",
    "Simplify the fractions:\n",
    "$13 = -12 \\left( \\frac{-4}{R_a} + 1 + \\frac{1}{3} \\right)$\n",
    "\n",
    "Combine the constants:\n",
    "$13 = -12 \\left( \\frac{-4}{R_a} + \\frac{4}{3} \\right)$\n",
    "\n",
    "### Step 2: Solve for $\\frac{-4}{R_a}$\n",
    "Divide both sides by $-12$:\n",
    "$\\frac{13}{-12} = \\frac{-4}{R_a} + \\frac{4}{3}$\n",
    "\n",
    "Simplify:\n",
    "$-1.0833 = \\frac{-4}{R_a} + 1.3333$\n",
    "\n",
    "Subtract $1.3333$ from both sides:\n",
    "$-1.0833 - 1.3333 = \\frac{-4}{R_a}$\n",
    "\n",
    "$-2.4166 = \\frac{-4}{R_a}$\n",
    "\n",
    "Multiply both sides by $-1$:\n",
    "$2.4166 = \\frac{4}{R_a}$\n",
    "\n",
    "### Step 3: Solve for $R_a$\n",
    "$R_a = \\frac{4}{2.4166} \\approx 1.654k\\Omega$\n",
    "\n",
    "Thus, the value of $R_a$ must be changed to approximately:\n",
    "\n",
    "**1.654**"
   ]
  },
  {
   "cell_type": "markdown",
   "id": "9f62e8bb-7ba0-4095-919f-f5e230687ed6",
   "metadata": {},
   "source": [
    "✅ Correct\n",
    "\n",
    "-12/$R_a$ (-4} + -12/2 *(2) + (-12/3) *(1) = 13. Solve for Ra.\n"
   ]
  },
  {
   "cell_type": "code",
   "execution_count": null,
   "id": "4cebcd3c-bcaf-4961-a8da-494cd689762d",
   "metadata": {},
   "outputs": [],
   "source": []
  }
 ],
 "metadata": {
  "kernelspec": {
   "display_name": "Julia 1.11.3",
   "language": "julia",
   "name": "julia-1.11"
  },
  "language_info": {
   "file_extension": ".jl",
   "mimetype": "application/julia",
   "name": "julia",
   "version": "1.11.3"
  }
 },
 "nbformat": 4,
 "nbformat_minor": 5
}
