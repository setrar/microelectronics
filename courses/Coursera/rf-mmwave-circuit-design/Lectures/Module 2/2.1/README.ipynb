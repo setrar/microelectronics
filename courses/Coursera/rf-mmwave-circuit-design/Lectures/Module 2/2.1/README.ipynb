{
 "cells": [
  {
   "cell_type": "markdown",
   "id": "81253505-3d9a-484e-8509-ccf53f6158bf",
   "metadata": {},
   "source": [
    "# Path Loss"
   ]
  },
  {
   "cell_type": "markdown",
   "id": "e9f176d9-34e9-4564-bbfa-d61ee66f7c33",
   "metadata": {},
   "source": [
    "Q 1) What is the minimum transmit power required to send a signal to the moon  (when closest to Earth), such that the signal is properly received by a receiver with sensitivity of -120 dBm and a signal frequency of 400 MHz? Consider TX and RX antenna gains of 10 dB and neglect the impact of the atmosphere in the signal."
   ]
  },
  {
   "cell_type": "markdown",
   "id": "1bf6a0ad-26dd-4eee-8c1d-7f1666fada3d",
   "metadata": {},
   "source": [
    "To determine the minimum transmit power required to send a signal to the moon when it is closest to Earth, we use the Friis transmission equation. The receiver sensitivity is -120 dBm, the signal frequency is 400 MHz, and both the transmitter and receiver antenna gains are 10 dB. The distance to the moon at perigee is approximately 356,500 km.\n",
    "\n",
    "The path loss in free space is calculated using the formula:\n",
    "$\\text{Path Loss (dB)} = 20 \\log_{10}(d_{\\text{km}}) + 20 \\log_{10}(f_{\\text{MHz}}) + 32.45$\n",
    "where $d_{\\text{km}} = 356,500$ km and $f_{\\text{MHz}} = 400$ MHz.\n",
    "\n",
    "1. Calculate the path loss:\n",
    "$20 \\log_{10}(356500) \\approx 111.04 \\, \\text{dB}$\n",
    "$20 \\log_{10}(400) \\approx 52.04 \\, \\text{dB}$\n",
    "$\\text{Path Loss} = 111.04 + 52.04 + 32.45^{(1)} = 195.53 \\, \\text{dB}$\n",
    "\n",
    "2. Using the Friis transmission equation to solve for the transmit power $P_t$:\n",
    "$P_r = P_t + G_t + G_r - \\text{Path Loss}$\n",
    "   where $P_r = -120 \\, \\text{dBm}$, $G_t = 10 \\, \\text{dB}$, $G_r = 10 \\, \\text{dB}$, and $\\text{Path Loss} = 195.53 \\, \\text{dB}$.\n",
    "\n",
    "3. Rearrange the equation to solve for $P_t$:\n",
    "$-120 = P_t + 10 + 10 - 195.53$\n",
    "$P_t = -120 - 20 + 195.53$\n",
    "$P_t = 55.53 \\, \\text{dBm}$\n",
    "\n",
    "Converting this to watts for clarity:\n",
    "$P_t \\, (\\text{watts}) = 10^{(55.53/10)} / 1000 \\approx 358 \\, \\text{watts}$\n",
    "\n",
    "However, the answer is typically given in dBm for consistency with the link budget calculation.\n",
    "\n",
    "$\\boxed{55.5\\ \\text{dBm}}$\n"
   ]
  },
  {
   "cell_type": "markdown",
   "id": "dce5feb5-bc7d-4d26-aae5-9c6a0ab1968b",
   "metadata": {},
   "source": [
    "# References\n",
    "\n",
    "$^{(1)}$ The value **32.45 dB** in the free-space path loss formula arises from unit conversions and constants in the **Friis transmission equation**. Here’s the breakdown:\n",
    "\n",
    "### **Derivation of the Constant**\n",
    "The original free-space path loss formula in linear terms is:\n",
    "$\\text{Path Loss (PL)} = \\left( \\frac{4\\pi d}{\\lambda} \\right)^2$\n",
    "where:\n",
    "- $d$ = distance (meters),\n",
    "- $\\lambda$ = wavelength (meters) = $c / f$ (where $c = \\text{speed of light}, f = \\text{frequency in Hz}$).\n",
    "\n",
    "To convert this to **decibels (dB)** and use units of **distance in kilometers (km)** and **frequency in MHz**, the formula becomes:\n",
    "$\\text{Path Loss (dB)} = 20 \\log_{10}(d_{\\text{km}}) + 20 \\log_{10}(f_{\\text{MHz}}) + 32.45$\n",
    "\n",
    "#### **Where does 32.45 come from?**\n",
    "1. **Convert $d$ to km and $f$ to MHz:**\n",
    "   - $d_{\\text{km}} = d_{\\text{m}} / 1000$,\n",
    "   - $f_{\\text{MHz}} = f_{\\text{Hz}} / 10^6$.\n",
    "\n",
    "2. **Substitute constants into the equation:**\n",
    "   - Speed of light, $c = 3 \\times 10^8 \\, \\text{m/s}$,\n",
    "   - $4\\pi/c$ in logarithmic terms:  \n",
    "$20 \\log_{10}\\left(\\frac{4\\pi}{c}\\right) \\approx -147.55 \\, \\text{dB}.$\n",
    "\n",
    "3. **Account for unit conversions:**\n",
    "   - $20 \\log_{10}(1000) = 60 \\, \\text{dB}$ (from km),\n",
    "   - $20 \\log_{10}(10^6) = 120 \\, \\text{dB}$ (from MHz).\n",
    "\n",
    "4. **Combine all terms:**\n",
    "$-147.55 + 60 + 120 = 32.45 \\, \\text{dB}.$\n",
    "\n",
    "---\n",
    "\n",
    "### **Summary**\n",
    "The **32.45 dB** is a constant that accounts for:\n",
    "- The $4\\pi/c$ term in the Friis equation,\n",
    "- Unit conversions (distance to kilometers and frequency to MHz).\n",
    "\n",
    "This constant simplifies the path loss formula for practical calculations using km and MHz. 🌐"
   ]
  },
  {
   "cell_type": "code",
   "execution_count": null,
   "id": "cf5f02f5-54a9-46fe-9797-c61c0b84360f",
   "metadata": {},
   "outputs": [],
   "source": []
  }
 ],
 "metadata": {
  "kernelspec": {
   "display_name": "Julia 1.11.3",
   "language": "julia",
   "name": "julia-1.11"
  },
  "language_info": {
   "file_extension": ".jl",
   "mimetype": "application/julia",
   "name": "julia",
   "version": "1.11.3"
  }
 },
 "nbformat": 4,
 "nbformat_minor": 5
}
